{
  "nbformat": 4,
  "nbformat_minor": 0,
  "metadata": {
    "colab": {
      "provenance": []
    },
    "kernelspec": {
      "name": "python3",
      "display_name": "Python 3"
    },
    "language_info": {
      "name": "python"
    }
  },
  "cells": [
    {
      "cell_type": "markdown",
      "source": [
        "# **Assignment # 02**\n",
        "Name: **MUQADDAS BANO**\n",
        "\n",
        "Student ID: **2023B8010815002**\n",
        "\n",
        "Major: **Botany**\n",
        "\n",
        "Institute: **Wuhan Botanical Garden**\n",
        "\n",
        "Degree: ***Master's ***\n"
      ],
      "metadata": {
        "id": "v3f6ojFI_kkF"
      }
    },
    {
      "cell_type": "markdown",
      "source": [
        "# **# 2.1.1. Probability of Liking Jelly**\n",
        "\n",
        "**Given that 80% of people like peanut butter (P(Peanut Butter) = 0.80), 89% like jelly (P(Jelly) = 0.89), and 78% like both (P(Peanut Butter and Jelly) = 0.78), what is the probability that a randomly sampled person who likes peanut butter also likes jelly?**"
      ],
      "metadata": {
        "id": "H8MmREa6ke4a"
      }
    },
    {
      "cell_type": "markdown",
      "source": [
        "**Probilities which are given:**\n"
      ],
      "metadata": {
        "id": "HmlYP6C8TNMM"
      }
    },
    {
      "cell_type": "code",
      "source": [
        "#Probability of liking peanut butter\n",
        "Peanut_butter_P = 0.80"
      ],
      "metadata": {
        "id": "2Zl4SR1ZT28s"
      },
      "execution_count": 6,
      "outputs": []
    },
    {
      "cell_type": "code",
      "source": [
        "#Probability of  liking jelly\n",
        "Jelly_P = 0.89"
      ],
      "metadata": {
        "id": "YPJDXKonUT_b"
      },
      "execution_count": 7,
      "outputs": []
    },
    {
      "cell_type": "code",
      "source": [
        "#Probability of liking both peanut butter and jelly\n",
        "P_peanut_butter_and_jelly = 0.78"
      ],
      "metadata": {
        "id": "AFxVHj98UpkH"
      },
      "execution_count": 15,
      "outputs": []
    },
    {
      "cell_type": "code",
      "source": [
        "# Calculate the conditional probability\n",
        "P_jelly_given_peanut_butter = P_peanut_butter_and_jelly / Peanut_butter_P"
      ],
      "metadata": {
        "id": "BG_WZ88WXnpo"
      },
      "execution_count": 17,
      "outputs": []
    },
    {
      "cell_type": "code",
      "source": [
        "print(\"The probability that a person who likes peanut butter also likes jelly is:\", P_jelly_given_peanut_butter)"
      ],
      "metadata": {
        "colab": {
          "base_uri": "https://localhost:8080/"
        },
        "id": "gyVgr1XrYQDb",
        "outputId": "5dfc9d92-7b31-410b-9ee6-ed9b0ad774f5"
      },
      "execution_count": 18,
      "outputs": [
        {
          "output_type": "stream",
          "name": "stdout",
          "text": [
            "The probability that a person who likes peanut butter also likes jelly is: 0.975\n"
          ]
        }
      ]
    },
    {
      "cell_type": "markdown",
      "source": [
        "# **2.1.2. Probability Computation**"
      ],
      "metadata": {
        "id": "jg7DiCo0Yih4"
      }
    },
    {
      "cell_type": "markdown",
      "source": [
        "# **PART#01**\n",
        "\n",
        " Given P(A) = 0.3 and P(B) = 0.7, can you compute P(A and B) with just this information? Assuming A and B are independent, calculate P(A and B), P(A or B), and P(A|B)."
      ],
      "metadata": {
        "id": "aFPXV2s0YpjC"
      }
    },
    {
      "cell_type": "markdown",
      "source": [
        "***Give Data***"
      ],
      "metadata": {
        "id": "5dA10yKkaGBE"
      }
    },
    {
      "cell_type": "code",
      "source": [
        "# Value of A is\n",
        "P_A = 0.3"
      ],
      "metadata": {
        "id": "Ql5OaeeT2HNz"
      },
      "execution_count": 21,
      "outputs": []
    },
    {
      "cell_type": "code",
      "source": [
        "# Value of B is\n",
        "P_B = 0.7"
      ],
      "metadata": {
        "id": "uLuD75Jp4RQa"
      },
      "execution_count": 15,
      "outputs": []
    },
    {
      "cell_type": "code",
      "source": [
        "# Calculating the values of P(A and B)\n",
        "P_A_and_B = P_A * P_B"
      ],
      "metadata": {
        "id": "FoWLkVCp4XIg"
      },
      "execution_count": 25,
      "outputs": []
    },
    {
      "cell_type": "code",
      "source": [
        "# Calculating the values of P(A or B)\n",
        "P_A_or_B = P_A + P_B - P_A_and_B"
      ],
      "metadata": {
        "id": "1Q2f2fAY6DDG"
      },
      "execution_count": 23,
      "outputs": []
    },
    {
      "cell_type": "code",
      "source": [
        "# Calculating the values of P(A|B)\n",
        "P_A_given_B = P_A"
      ],
      "metadata": {
        "id": "hsoJlnLA6Jzp"
      },
      "execution_count": 27,
      "outputs": []
    },
    {
      "cell_type": "markdown",
      "source": [
        "calculate the values of P(A and B), P(A or B), and P(A|B)."
      ],
      "metadata": {
        "id": "LSvgS4NB8XGc"
      }
    },
    {
      "cell_type": "code",
      "source": [
        "print(\"P(A and B) =\", P_A_and_B)\n",
        "print(\"P(A or B) =\", P_A_or_B)\n",
        "print(\"P(A|B) =\", P_A_given_B)"
      ],
      "metadata": {
        "colab": {
          "base_uri": "https://localhost:8080/"
        },
        "id": "kSQM4za07jWg",
        "outputId": "d97d1be2-6102-4df7-ead8-8f9b7ffdc352"
      },
      "execution_count": 28,
      "outputs": [
        {
          "output_type": "stream",
          "name": "stdout",
          "text": [
            "P(A and B) = 0.21\n",
            "P(A or B) = 0.79\n",
            "P(A|B) = 0.3\n"
          ]
        }
      ]
    },
    {
      "cell_type": "markdown",
      "source": [
        "# **PART # 02**\n",
        "\n",
        "Compute the probability of each event (values from 1 to 6) when your score is the maximum value from two dice."
      ],
      "metadata": {
        "id": "7St8xYV09DeW"
      }
    },
    {
      "cell_type": "code",
      "source": [
        "# Number of sides on a die\n",
        "num_sides = 6"
      ],
      "metadata": {
        "id": "YRGs6w0U9VPa"
      },
      "execution_count": 31,
      "outputs": []
    },
    {
      "cell_type": "code",
      "source": [
        "# Initialize a list to store the probabilities for each maximum value\n",
        "probabilities = [0] * num_sides"
      ],
      "metadata": {
        "id": "E4iM3qz6-LV8"
      },
      "execution_count": 32,
      "outputs": []
    },
    {
      "cell_type": "code",
      "source": [
        "# Calculate the probabilities\n",
        "for max_value in range(1, num_sides + 1):\n",
        "    # Calculate the number of ways to get the maximum value\n",
        "    ways_to_get_max_value = num_sides - max_value + 1"
      ],
      "metadata": {
        "id": "FecYGLig-O6F"
      },
      "execution_count": 44,
      "outputs": []
    },
    {
      "cell_type": "code",
      "source": [
        " # Calculate the probability for the maximum value\n",
        "probability = ways_to_get_max_value / (num_sides * num_sides)\n"
      ],
      "metadata": {
        "id": "ObTqtiP5-TL_"
      },
      "execution_count": 46,
      "outputs": []
    },
    {
      "cell_type": "code",
      "source": [
        "# Store the probability in the list\n",
        "probabilities[max_value - 1] = probability"
      ],
      "metadata": {
        "id": "zD27WZgj-VpK"
      },
      "execution_count": 48,
      "outputs": []
    },
    {
      "cell_type": "code",
      "source": [
        "# Print the probabilities for each maximum value\n",
        "for max_value, probability in enumerate(probabilities):\n",
        "    print(f\"P(Maximum Value = {max_value + 1}) = {probability:.4f}\")"
      ],
      "metadata": {
        "colab": {
          "base_uri": "https://localhost:8080/"
        },
        "id": "77E8CVne-YqG",
        "outputId": "7ed7a1a6-13d6-449c-959e-09b1d3419bad"
      },
      "execution_count": 49,
      "outputs": [
        {
          "output_type": "stream",
          "name": "stdout",
          "text": [
            "P(Maximum Value = 1) = 0.0000\n",
            "P(Maximum Value = 2) = 0.0000\n",
            "P(Maximum Value = 3) = 0.0000\n",
            "P(Maximum Value = 4) = 0.0000\n",
            "P(Maximum Value = 5) = 0.0000\n",
            "P(Maximum Value = 6) = 0.0278\n"
          ]
        }
      ]
    },
    {
      "cell_type": "markdown",
      "source": [
        "# **2.1.3. Cumulative Distribution Function**\n",
        "\n",
        "**Prove that the cumulative distribution function of the maximum of a pair of values drawn from random variable X is the square of the original cumulative distribution function of X.**"
      ],
      "metadata": {
        "id": "IEIjLOjECv0p"
      }
    },
    {
      "cell_type": "code",
      "source": [
        "import numpy as np"
      ],
      "metadata": {
        "id": "QRO0Nws5fx_B"
      },
      "execution_count": 1,
      "outputs": []
    },
    {
      "cell_type": "code",
      "source": [
        "import matplotlib.pyplot as plt"
      ],
      "metadata": {
        "id": "L8xJ2ffPgNCH"
      },
      "execution_count": 2,
      "outputs": []
    },
    {
      "cell_type": "code",
      "source": [
        "# Cumulative distribution function X\n",
        "def cdf_x(x):\n",
        "    return 1 - np.exp(-x)\n"
      ],
      "metadata": {
        "id": "bOtrEjw0gTCQ"
      },
      "execution_count": 3,
      "outputs": []
    },
    {
      "cell_type": "code",
      "source": [
        "# maximum of a pair values drawn from X\n",
        "def cdf_max_x(x):\n",
        "    return cdf_x(x) ** 2"
      ],
      "metadata": {
        "id": "QYgQxcvcg4Ah"
      },
      "execution_count": 4,
      "outputs": []
    },
    {
      "cell_type": "code",
      "source": [
        "# Randomly selected x values\n",
        "x_values = np.linspace(0, 10, 50)"
      ],
      "metadata": {
        "id": "3Mqf2vU0hZAn"
      },
      "execution_count": 5,
      "outputs": []
    },
    {
      "cell_type": "markdown",
      "source": [
        "**Calculating the CDF Values**"
      ],
      "metadata": {
        "id": "PssVncLIhvwJ"
      }
    },
    {
      "cell_type": "code",
      "source": [
        "# Calculate the CDF values for X and max(X)\n",
        "cdf_x_values = [cdf_x(x) for x in x_values]\n",
        "cdf_max_x_values = [cdf_max_x(x) for x in x_values]"
      ],
      "metadata": {
        "id": "MtlW7ejXh1Cb"
      },
      "execution_count": 6,
      "outputs": []
    },
    {
      "cell_type": "markdown",
      "source": [
        "**Separately Plotting the CDF values of both X and max X**"
      ],
      "metadata": {
        "id": "B3tDm3rJiH5G"
      }
    },
    {
      "cell_type": "code",
      "source": [
        "# Ploting the CDF of X\n",
        "plt.plot(x_values, cdf_x_values, label='CDF of X')\n"
      ],
      "metadata": {
        "colab": {
          "base_uri": "https://localhost:8080/",
          "height": 447
        },
        "id": "8CWEan9GiAIK",
        "outputId": "97279c36-690d-4657-9925-a3b8b7848880"
      },
      "execution_count": 7,
      "outputs": [
        {
          "output_type": "execute_result",
          "data": {
            "text/plain": [
              "[<matplotlib.lines.Line2D at 0x7b7350ce56c0>]"
            ]
          },
          "metadata": {},
          "execution_count": 7
        },
        {
          "output_type": "display_data",
          "data": {
            "text/plain": [
              "<Figure size 640x480 with 1 Axes>"
            ],
            "image/png": "[encoded data removed]"
          },
          "metadata": {}
        }
      ]
    },
    {
      "cell_type": "code",
      "source": [
        "# Plot the CDF of max(X)\n",
        "plt.plot(x_values, cdf_max_x_values, label='CDF of max(X)')\n"
      ],
      "metadata": {
        "colab": {
          "base_uri": "https://localhost:8080/",
          "height": 447
        },
        "id": "b4oOZBC1idOE",
        "outputId": "fba587c1-44d5-40ea-e258-b7f2462f7361"
      },
      "execution_count": 8,
      "outputs": [
        {
          "output_type": "execute_result",
          "data": {
            "text/plain": [
              "[<matplotlib.lines.Line2D at 0x7b7350be2140>]"
            ]
          },
          "metadata": {},
          "execution_count": 8
        },
        {
          "output_type": "display_data",
          "data": {
            "text/plain": [
              "<Figure size 640x480 with 1 Axes>"
            ],
            "image/png": "[encoded data removed]"
          },
          "metadata": {}
        }
      ]
    },
    {
      "cell_type": "code",
      "source": [
        "# Plot the CDF of X\n",
        "plt.plot(x_values, cdf_x_values, label='CDF of X')\n",
        "\n",
        "# Plot the CDF of max(X)\n",
        "plt.plot(x_values, cdf_max_x_values, label='CDF of max(X)')\n",
        "\n",
        "plt.xlabel('x')\n",
        "plt.ylabel('CDF')\n",
        "plt.legend()\n",
        "plt.title('CDF of X and max(X)')\n",
        "plt.grid(True)\n",
        "plt.show()"
      ],
      "metadata": {
        "colab": {
          "base_uri": "https://localhost:8080/",
          "height": 472
        },
        "id": "LN4OU5E_tuSc",
        "outputId": "eefdf5a2-b475-4b53-9a3e-aa65a65758d4"
      },
      "execution_count": 56,
      "outputs": [
        {
          "output_type": "display_data",
          "data": {
            "text/plain": [
              "<Figure size 640x480 with 1 Axes>"
            ],
            "image/png": "[encoded data removed]"
          },
          "metadata": {}
        }
      ]
    },
    {
      "cell_type": "markdown",
      "source": [
        "# **2.1.4. Independence of Binary Random Variables**\n",
        "\n",
        "**If two binary random variables X and Y are independent, are the complement of X and Y also independent? Provide a proof or counter example**"
      ],
      "metadata": {
        "id": "TiYMhEoIkLIL"
      }
    },
    {
      "cell_type": "code",
      "source": [
        "# X and Y are independent binary random variables\n",
        "# X' and Y', are not necessarily independent"
      ],
      "metadata": {
        "id": "ZWEvRXEul8nl"
      },
      "execution_count": 16,
      "outputs": []
    },
    {
      "cell_type": "code",
      "source": [
        "# Defining the probability distribution for X and Y\n",
        "# P(X = 0)\n",
        "P_X_0 = 0.2\n",
        "# P(Y = 0)\n",
        "P_Y_0 = 0.6\n"
      ],
      "metadata": {
        "id": "TOn2pM5pmVxH"
      },
      "execution_count": 22,
      "outputs": []
    },
    {
      "cell_type": "markdown",
      "source": [
        "**Separately calculated the probabilities for X and Y, FOR X' and Y'**"
      ],
      "metadata": {
        "id": "7sMS913PnVsb"
      }
    },
    {
      "cell_type": "code",
      "source": [
        "# For calculating the complement probabilities for X and Y\n",
        "# P(X = 1)\n",
        "P_X_1 = 1 - P_X_0\n",
        "# P(Y = 1)\n",
        "P_Y_1 = 1 - P_Y_0"
      ],
      "metadata": {
        "id": "GCDSUYt-mw_t"
      },
      "execution_count": 23,
      "outputs": []
    },
    {
      "cell_type": "code",
      "source": [
        "# Calculating the probabilities for X' and Y'\n",
        "# P(X' = 1)\n",
        "P_X_complement_1 = 1 - P_X_1\n",
        "# P(Y' = 1)\n",
        "P_Y_complement_1 = 1 - P_Y_1"
      ],
      "metadata": {
        "id": "yVhoCNN_nERp"
      },
      "execution_count": 24,
      "outputs": []
    },
    {
      "cell_type": "code",
      "source": [
        "# Check if P(X' = 1) * P(Y' = 1) equals to P(X' = 1, Y' = 1)\n",
        "independence = P_X_complement_1 * P_Y_complement_1 == P_X_complement_1 * P_Y_complement_1"
      ],
      "metadata": {
        "id": "tDqVA08LnuAr"
      },
      "execution_count": 25,
      "outputs": []
    },
    {
      "cell_type": "code",
      "source": [
        "print(\"Are the complements of X and Y independent?\", independence)"
      ],
      "metadata": {
        "colab": {
          "base_uri": "https://localhost:8080/"
        },
        "id": "mWwH9vb8oIpv",
        "outputId": "4e129cc5-ca3d-460f-e0d8-ffc7bf0a0ce4"
      },
      "execution_count": 26,
      "outputs": [
        {
          "output_type": "stream",
          "name": "stdout",
          "text": [
            "Are the complements of X and Y independent? True\n"
          ]
        }
      ]
    },
    {
      "cell_type": "markdown",
      "source": [
        "# **2.1.5. Mean and Standard Deviation Comparison**\n",
        "\n",
        "**Compare the mean and standard deviation for each pair of distributions. No need to calculate actual values, just determine their relative comparisons. **\n",
        "\n",
        "(a) i. [3, 5, 5, 5, 8, 11, 11, 11, 13]. ii. [3, 5, 5, 5, 8, 11, 11, 11, 20].\n",
        "\n",
        " (b) i. [-20, 0, 0, 0, 15, 25, 30, 30]. ii. [-40, 0, 0, 0, 15, 25, 30, 30].\n",
        "\n",
        "(c) i. [0, 2, 4, 6, 8, 10]. ii. [20, 22, 24, 26, 28, 30].\n",
        "\n",
        "(d) i. [100, 200, 300, 400, 500]. ii. [0, 50, 300, 550, 600]."
      ],
      "metadata": {
        "id": "o-gPEltsouZm"
      }
    },
    {
      "cell_type": "code",
      "source": [
        "import numpy as np"
      ],
      "metadata": {
        "id": "BtyzzQM8pxfB"
      },
      "execution_count": 27,
      "outputs": []
    },
    {
      "cell_type": "code",
      "source": [
        "# Define the sets of data"
      ],
      "metadata": {
        "id": "uaoRi_PQptp_"
      },
      "execution_count": 28,
      "outputs": []
    },
    {
      "cell_type": "code",
      "source": [
        "a_i = [3, 5, 5, 5, 8, 11, 11, 11, 13]\n",
        "a_ii = [3, 5, 5, 5, 8, 11, 11, 11, 20]"
      ],
      "metadata": {
        "id": "QupuXTzjp8hX"
      },
      "execution_count": 29,
      "outputs": []
    },
    {
      "cell_type": "code",
      "source": [
        "b_i = [-20, 0, 0, 0, 15, 25, 30, 30]\n",
        "b_ii = [-40, 0, 0, 0, 15, 25, 30, 30]"
      ],
      "metadata": {
        "id": "s7bm0NPpqA33"
      },
      "execution_count": 30,
      "outputs": []
    },
    {
      "cell_type": "code",
      "source": [
        "c_i = [0, 2, 4, 6, 8, 10]\n",
        "c_ii = [20, 22, 24, 26, 28, 30]"
      ],
      "metadata": {
        "id": "RLB9g3eEpnHO"
      },
      "execution_count": 31,
      "outputs": []
    },
    {
      "cell_type": "code",
      "source": [
        "d_i = [100, 200, 300, 400, 500]\n",
        "d_ii = [0, 50, 300, 550, 600]"
      ],
      "metadata": {
        "id": "54cIE3Q-qN87"
      },
      "execution_count": 32,
      "outputs": []
    },
    {
      "cell_type": "code",
      "source": [
        "# compare mean and standard deviation\n",
        "def compare_mean_std(data1, data2):\n",
        "    mean1 = np.mean(data1)\n",
        "    mean2 = np.mean(data2)\n",
        "    std1 = np.std(data1)\n",
        "    std2 = np.std(data2)\n",
        "    mean_comparison = \"equal\" if mean1 == mean2 else \"different\"\n",
        "    std_comparison = \"equal\" if std1 == std2 else \"different\"\n",
        "\n",
        "    return mean_comparison, std_comparison\n"
      ],
      "metadata": {
        "id": "eoOch9ROqSAV"
      },
      "execution_count": 52,
      "outputs": []
    },
    {
      "cell_type": "code",
      "source": [],
      "metadata": {
        "id": "LRmtXuXwsrFA"
      },
      "execution_count": null,
      "outputs": []
    },
    {
      "cell_type": "code",
      "source": [
        "  # Compare the mean and standard deviation for each pair of distributions\n",
        "a_comparison = compare_mean_std(a_i, a_ii)\n",
        "b_comparison = compare_mean_std(b_i, b_ii)\n",
        "c_comparison = compare_mean_std(c_i, c_ii)\n",
        "d_comparison = compare_mean_std(d_i, d_ii)\n",
        "\n",
        "\n"
      ],
      "metadata": {
        "id": "GLbOWkI5qcVQ"
      },
      "execution_count": 49,
      "outputs": []
    },
    {
      "cell_type": "code",
      "source": [
        "print(\"Comparisons for (a):\", a_comparison)\n",
        "print(\"Comparisons for (b):\", b_comparison)\n",
        "print(\"Comparisons for (c):\", c_comparison)\n",
        "print(\"Comparisons for (d):\", d_comparison)"
      ],
      "metadata": {
        "colab": {
          "base_uri": "https://localhost:8080/"
        },
        "id": "lHaGzS04sj4C",
        "outputId": "442945b0-1528-47f1-f610-9c38927ccf79"
      },
      "execution_count": 53,
      "outputs": [
        {
          "output_type": "stream",
          "name": "stdout",
          "text": [
            "Comparisons for (a): ('different', 'different')\n",
            "Comparisons for (b): ('different', 'different')\n",
            "Comparisons for (c): ('different', 'equal')\n",
            "Comparisons for (d): ('equal', 'different')\n"
          ]
        }
      ]
    },
    {
      "cell_type": "markdown",
      "source": [
        "# **2.1.6. Probability Distribution without One σ**\n",
        "\n",
        "**Construct a probability distribution where none of the mass lies within one standard deviation of the mean.**"
      ],
      "metadata": {
        "id": "LhAhfWVcuZfF"
      }
    },
    {
      "cell_type": "code",
      "source": [
        "import numpy as np"
      ],
      "metadata": {
        "id": "CXQrnoB9uQ2R"
      },
      "execution_count": 58,
      "outputs": []
    },
    {
      "cell_type": "code",
      "source": [
        "import matplotlib.pyplot as plt"
      ],
      "metadata": {
        "id": "loqoDcGQus2V"
      },
      "execution_count": 59,
      "outputs": []
    },
    {
      "cell_type": "code",
      "source": [
        "# Parameters for the distribution\n",
        "# Mean of the distribution\n",
        "mean = 0\n",
        "# Standard deviation of the distribution\n",
        "std_dev = 10\n",
        "# Number of data points\n",
        "num_points = 100"
      ],
      "metadata": {
        "id": "6ezpE-_guwNW"
      },
      "execution_count": 60,
      "outputs": []
    },
    {
      "cell_type": "code",
      "source": [
        "# Generating a probability distribution with a minimal mass around the mean\n",
        "# Choosing a probabiliy\n",
        "# here I selected,\n",
        "data = np.random.uniform(mean - 2 * std_dev, mean + 2 * std_dev, num_points)"
      ],
      "metadata": {
        "id": "PkV5b_mTvyu8"
      },
      "execution_count": 62,
      "outputs": []
    },
    {
      "cell_type": "code",
      "source": [
        "# Creating  an histogram to check the distribution\n",
        "plt.hist(data, bins=25, density=True, alpha=0.8, color='c', label='Probability Distribution')"
      ],
      "metadata": {
        "colab": {
          "base_uri": "https://localhost:8080/",
          "height": 656
        },
        "id": "0GST7tH6wzUH",
        "outputId": "b01ab5bc-5320-44c1-942c-09136cb4f60e"
      },
      "execution_count": 69,
      "outputs": [
        {
          "output_type": "execute_result",
          "data": {
            "text/plain": [
              "(array([0.03243017, 0.        , 0.01297207, 0.01297207, 0.04540224,\n",
              "        0.03243017, 0.01297207, 0.00648603, 0.01297207, 0.02594413,\n",
              "        0.01297207, 0.01297207, 0.0389162 , 0.03243017, 0.03243017,\n",
              "        0.02594413, 0.03243017, 0.05188827, 0.03243017, 0.03243017,\n",
              "        0.03243017, 0.0194581 , 0.02594413, 0.03243017, 0.0389162 ]),\n",
              " array([-19.62927535, -18.08750105, -16.54572676, -15.00395247,\n",
              "        -13.46217818, -11.92040389, -10.37862959,  -8.8368553 ,\n",
              "         -7.29508101,  -5.75330672,  -4.21153243,  -2.66975813,\n",
              "         -1.12798384,   0.41379045,   1.95556474,   3.49733903,\n",
              "          5.03911332,   6.58088762,   8.12266191,   9.6644362 ,\n",
              "         11.20621049,  12.74798478,  14.28975908,  15.83153337,\n",
              "         17.37330766,  18.91508195]),\n",
              " <BarContainer object of 25 artists>)"
            ]
          },
          "metadata": {},
          "execution_count": 69
        },
        {
          "output_type": "display_data",
          "data": {
            "text/plain": [
              "<Figure size 640x480 with 1 Axes>"
            ],
            "image/png": "[encoded data removed]"
          },
          "metadata": {}
        }
      ]
    },
    {
      "cell_type": "code",
      "source": [
        "# Plot the mean and one standard deviation boundaries\n",
        "plt.axvline(mean, color='r', linestyle='dashed', linewidth=2, label='Mean')\n",
        "plt.axvline(mean - std_dev, color='c', linestyle='dashed', linewidth=2, label='Mean - 1 Std Dev')\n",
        "plt.axvline(mean + std_dev, color='c', linestyle='dashed', linewidth=2, label='Mean + 1 Std Dev')\n",
        "\n",
        "plt.xlabel('Values')\n",
        "plt.ylabel('Probability Density')\n",
        "plt.title('Probability Distribution')\n",
        "plt.legend()\n",
        "plt.show()"
      ],
      "metadata": {
        "colab": {
          "base_uri": "https://localhost:8080/",
          "height": 472
        },
        "id": "4f7k8bjCxmGl",
        "outputId": "4c2919b9-fcd7-4edc-ac9f-d2265795e0ae"
      },
      "execution_count": 72,
      "outputs": [
        {
          "output_type": "display_data",
          "data": {
            "text/plain": [
              "<Figure size 640x480 with 1 Axes>"
            ],
            "image/png": "[encoded data removed]"
          },
          "metadata": {}
        }
      ]
    },
    {
      "cell_type": "code",
      "source": [
        "# Create a histogram to visualize the distribution\n",
        "plt.hist(data, bins=25, density=True, alpha=0.8, color='c', label='Probability Distribution')\n",
        "\n",
        "# Plot the mean and one standard deviation boundaries\n",
        "plt.axvline(mean, color='r', linestyle='dashed', linewidth=2, label='Mean')\n",
        "plt.axvline(mean - std_dev, color='g', linestyle='dashed', linewidth=2, label='Mean - 1 Std Dev')\n",
        "plt.axvline(mean + std_dev, color='g', linestyle='dashed', linewidth=2, label='Mean + 1 Std Dev')\n",
        "\n",
        "plt.xlabel('Values')\n",
        "plt.ylabel('Probability Density')\n",
        "plt.title('Probability Distribution')\n",
        "plt.legend()\n",
        "plt.show()"
      ],
      "metadata": {
        "colab": {
          "base_uri": "https://localhost:8080/",
          "height": 472
        },
        "id": "-iuCK_ceyFNu",
        "outputId": "507748f9-0327-4637-9f38-89f7bd5684e6"
      },
      "execution_count": 75,
      "outputs": [
        {
          "output_type": "display_data",
          "data": {
            "text/plain": [
              "<Figure size 640x480 with 1 Axes>"
            ],
            "image/png": "[encoded data removed]"
          },
          "metadata": {}
        }
      ]
    },
    {
      "cell_type": "markdown",
      "source": [
        "# **2.1.7. Arithmetic vs. Geometric Mean**\n",
        "\n",
        "**Compare the arithmetic and geometric means for random integers.**"
      ],
      "metadata": {
        "id": "gMvLDUucyN2s"
      }
    },
    {
      "cell_type": "code",
      "source": [
        "import random\n",
        "import numpy as np\n",
        "from scipy.stats.mstats import gmean"
      ],
      "metadata": {
        "id": "RUBJ2NiQy-tx"
      },
      "execution_count": 81,
      "outputs": []
    },
    {
      "cell_type": "markdown",
      "source": [
        "**Step # 01**"
      ],
      "metadata": {
        "id": "AvYpOLjp0db8"
      }
    },
    {
      "cell_type": "code",
      "source": [
        "# Generate a set of random integers\n",
        "random_integers = [random.randint(1, 200) for _ in range(20)]"
      ],
      "metadata": {
        "id": "dFCOBHAdyXqx"
      },
      "execution_count": 82,
      "outputs": []
    },
    {
      "cell_type": "markdown",
      "source": [
        "**Step # 02**"
      ],
      "metadata": {
        "id": "dMaUcDrU0l6p"
      }
    },
    {
      "cell_type": "code",
      "source": [
        "# Calculate the arithmetic mean\n",
        "arithmetic_mean = np.mean(random_integers)"
      ],
      "metadata": {
        "id": "BXyW6chuy3b3"
      },
      "execution_count": 83,
      "outputs": []
    },
    {
      "cell_type": "markdown",
      "source": [
        "**Step # 03**"
      ],
      "metadata": {
        "id": "wkciuoVa0uAx"
      }
    },
    {
      "cell_type": "code",
      "source": [
        "# Calculating the geometric mean\n",
        "geometric_mean = gmean(random_integers)"
      ],
      "metadata": {
        "id": "Eyx5fQGEz35Y"
      },
      "execution_count": 84,
      "outputs": []
    },
    {
      "cell_type": "markdown",
      "source": [
        "**Step # 04**"
      ],
      "metadata": {
        "id": "C1F8YD4d1I1z"
      }
    },
    {
      "cell_type": "code",
      "source": [
        "# Comapring two means\n",
        "# Print the random integers and their means\n",
        "print(\"Random Integers:\", random_integers)\n",
        "print(\"Arithmetic Mean:\", arithmetic_mean)\n",
        "print(\"Geometric Mean:\", geometric_mean)\n"
      ],
      "metadata": {
        "colab": {
          "base_uri": "https://localhost:8080/"
        },
        "id": "U47cH1Ln0EhP",
        "outputId": "63406e84-8922-4add-869c-6c432740c000"
      },
      "execution_count": 101,
      "outputs": [
        {
          "output_type": "stream",
          "name": "stdout",
          "text": [
            "Random Integers: [5, 97, 43, 96, 52, 30, 82, 69, 91, 41]\n",
            "Arithmetic Mean: 3.0\n",
            "Geometric Mean: 3.0\n"
          ]
        }
      ]
    },
    {
      "cell_type": "code",
      "source": [
        "# Create a histogram to visualize the distribution\n",
        "plt.hist(random_integers, bins=10, edgecolor='black', alpha=0.7)\n",
        "plt.xlabel('Values')\n",
        "plt.ylabel('Frequency')\n",
        "plt.title('Random Integer Distribution')\n",
        "\n",
        "# Plot the arithmetic mean\n",
        "plt.axvline(arithmetic_mean, color='red', linestyle='dashed', linewidth=2, label='Arithmetic Mean')\n",
        "\n",
        "# Plot the geometric mean\n",
        "plt.axvline(geometric_mean, color='green', linestyle='dashed', linewidth=2, label='Geometric Mean')\n",
        "\n",
        "plt.legend()\n",
        "plt.show()"
      ],
      "metadata": {
        "colab": {
          "base_uri": "https://localhost:8080/",
          "height": 472
        },
        "id": "7u0uwra268jY",
        "outputId": "e8f673d2-9a91-45cf-e998-a034c98c1350"
      },
      "execution_count": 103,
      "outputs": [
        {
          "output_type": "display_data",
          "data": {
            "text/plain": [
              "<Figure size 640x480 with 1 Axes>"
            ],
            "image/png": "[encoded data removed]"
          },
          "metadata": {}
        }
      ]
    },
    {
      "cell_type": "code",
      "source": [
        "# Comparing the means\n",
        "if arithmetic_mean > geometric_mean:\n",
        "    print(\"Arithmetic Mean is greater.\")\n",
        "elif arithmetic_mean < geometric_mean:\n",
        "    print(\"Geometric Mean is greater.\")\n",
        "else:\n",
        "    print(\"Arithmetic Mean and Geometric Mean are equal.\")"
      ],
      "metadata": {
        "colab": {
          "base_uri": "https://localhost:8080/"
        },
        "id": "biEkHGN70RLh",
        "outputId": "e8d49444-2df0-46a8-c710-38207019b670"
      },
      "execution_count": 88,
      "outputs": [
        {
          "output_type": "stream",
          "name": "stdout",
          "text": [
            "Arithmetic Mean is greater.\n"
          ]
        }
      ]
    },
    {
      "cell_type": "markdown",
      "source": [
        "# **2.1.8. Equating Arithmetic and Geometric Mean**\n",
        "\n",
        "**Show that the arithmetic mean equals the geometric mean when all terms are the same.**"
      ],
      "metadata": {
        "id": "ml-cZ1kk2PMO"
      }
    },
    {
      "cell_type": "code",
      "source": [
        "import numpy as np\n"
      ],
      "metadata": {
        "id": "7vYLGq193aC-"
      },
      "execution_count": 93,
      "outputs": []
    },
    {
      "cell_type": "markdown",
      "source": [
        "**Step # 01**"
      ],
      "metadata": {
        "id": "vkkk1C5Y3nLZ"
      }
    },
    {
      "cell_type": "code",
      "source": [
        "# Creating a list of equal values\n",
        "# 6 values, all equal to 3\n",
        "values = [3] * 6"
      ],
      "metadata": {
        "id": "ymeAvrbW3woc"
      },
      "execution_count": 94,
      "outputs": []
    },
    {
      "cell_type": "markdown",
      "source": [
        "**Step # 02**"
      ],
      "metadata": {
        "id": "Q08Wz_9H4Kz8"
      }
    },
    {
      "cell_type": "code",
      "source": [
        "# Calculating the arithmetic mean\n",
        "arithmetic_mean = np.mean(values)"
      ],
      "metadata": {
        "id": "o3Hw-dKj4R2W"
      },
      "execution_count": 95,
      "outputs": []
    },
    {
      "cell_type": "markdown",
      "source": [
        "**Step # 03**"
      ],
      "metadata": {
        "id": "oVgBrstI4cq2"
      }
    },
    {
      "cell_type": "code",
      "source": [
        "# Calculating the geometric mean\n",
        "geometric_mean = np.power(np.prod(values), 1/len(values))"
      ],
      "metadata": {
        "id": "_Xc8XC5K4gJY"
      },
      "execution_count": 96,
      "outputs": []
    },
    {
      "cell_type": "markdown",
      "source": [
        "**Step # 04**"
      ],
      "metadata": {
        "id": "cDvmntXP4mKl"
      }
    },
    {
      "cell_type": "code",
      "source": [
        "# Printing the values and their means\n",
        "print(\"Values:\", values)\n",
        "print(\"Arithmetic Mean:\", arithmetic_mean)\n",
        "print(\"Geometric Mean:\", geometric_mean)"
      ],
      "metadata": {
        "colab": {
          "base_uri": "https://localhost:8080/"
        },
        "id": "Ux5nYaEd4qG0",
        "outputId": "cbe4bb4c-754c-4636-aac1-77b995fc3a55"
      },
      "execution_count": 97,
      "outputs": [
        {
          "output_type": "stream",
          "name": "stdout",
          "text": [
            "Values: [3, 3, 3, 3, 3, 3]\n",
            "Arithmetic Mean: 3.0\n",
            "Geometric Mean: 3.0\n"
          ]
        }
      ]
    },
    {
      "cell_type": "markdown",
      "source": [
        "**Step # 05**"
      ],
      "metadata": {
        "id": "Rds67GH74wwo"
      }
    },
    {
      "cell_type": "code",
      "source": [
        "# Checking the arithmetic mean equals the geometric mean\n",
        "if arithmetic_mean == geometric_mean:\n",
        "    print(\"The arithmetic mean equals the geometric mean when all terms are the same.\")\n",
        "else:\n",
        "    print(\"The arithmetic mean does not equal the geometric mean when all terms are the same.\")"
      ],
      "metadata": {
        "colab": {
          "base_uri": "https://localhost:8080/"
        },
        "id": "bIE4iCjk40uK",
        "outputId": "aed726b6-be86-4a5d-cc10-fde77a07214d"
      },
      "execution_count": 98,
      "outputs": [
        {
          "output_type": "stream",
          "name": "stdout",
          "text": [
            "The arithmetic mean equals the geometric mean when all terms are the same.\n"
          ]
        }
      ]
    }
  ]
}