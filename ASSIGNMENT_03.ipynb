{
  "nbformat": 4,
  "nbformat_minor": 0,
  "metadata": {
    "colab": {
      "provenance": []
    },
    "kernelspec": {
      "name": "python3",
      "display_name": "Python 3"
    },
    "language_info": {
      "name": "python"
    }
  },
  "cells": [
    {
      "cell_type": "markdown",
      "source": [
        "# **Assignment # 03**\n",
        "\n",
        "## Name: **MUQADDAS BANO**\n",
        "\n",
        "## Student ID: **2023B8010815002**\n",
        "\n",
        "## Degree & Major : **Master's of Botany**\n",
        "\n",
        "## Institute: **Wuhan Botanical Garden**"
      ],
      "metadata": {
        "id": "IuGbaFkb42_d"
      }
    },
    {
      "cell_type": "markdown",
      "source": [
        "# **2.3.1. Probability Distribution Selection**\n",
        "**Explain which distribution (binomial, normal, Poisson, or power law) is most suitable for the following phenomena:**\n"
      ],
      "metadata": {
        "id": "RAXx22SDI-pG"
      }
    },
    {
      "cell_type": "markdown",
      "source": [
        "**(a) The number of leaves on a fully grown oak tree.**"
      ],
      "metadata": {
        "id": "G-nPyBCMJafY"
      }
    },
    {
      "cell_type": "markdown",
      "source": [
        "**ANSWER**\n",
        "\n",
        "***Poisson distribution is a good fit.***\n",
        "\n",
        "Explanation: The number of leaves on a fully grown oak tree is a count of discrete events (leaves) and is frequently well-modeled by a Poisson distribution, assuming that leaves occur randomly and independently on the tree."
      ],
      "metadata": {
        "id": "4_TRQq9rJnjU"
      }
    },
    {
      "cell_type": "markdown",
      "source": [
        "**(b) The age at which people's hair turns grey.**"
      ],
      "metadata": {
        "id": "gRCaQDIlKLSx"
      }
    },
    {
      "cell_type": "markdown",
      "source": [
        "**ANSWER**\n",
        "\n",
        "***Suitable Distribution: Normal distribution.***\n",
        "\n",
        "The average age at which human hair begins to go gray is a continuous variable that may be roughly described by a normal distribution. For continuous variables whose distribution is approximately bell-shaped, it is an ideal fit."
      ],
      "metadata": {
        "id": "80Oa6u4mKV9S"
      }
    },
    {
      "cell_type": "markdown",
      "source": [
        "**(c) The number of hairs on the heads of 20-year-olds.**"
      ],
      "metadata": {
        "id": "fLVKhXPqL6NW"
      }
    },
    {
      "cell_type": "markdown",
      "source": [
        "**ANSWER**\n",
        "\n",
        "**Suitable Distribution: Normal distribution.**\n",
        "\n",
        "The quantity of hairs on a person's head is a continuous variable that, given a big enough sample size of 20-year-olds, may be approximated by a normal distribution."
      ],
      "metadata": {
        "id": "iRdgu74KME6G"
      }
    },
    {
      "cell_type": "markdown",
      "source": [
        "**(d) The number of people who have been hit by lightning x times.**"
      ],
      "metadata": {
        "id": "VcLEEekYMStU"
      }
    },
    {
      "cell_type": "markdown",
      "source": [
        "**ANSWER**\n",
        "\n",
        "***Poisson distribution is a good fit.***\n",
        "\n",
        "Explanation: The number of persons struck by lightning follows a Poisson distribution because lightning strikes are infrequent and random occurrences happening independently."
      ],
      "metadata": {
        "id": "t2-fb5-pMeBm"
      }
    },
    {
      "cell_type": "markdown",
      "source": [
        "**(e) The number of miles driven before your car needs a new transmission:**"
      ],
      "metadata": {
        "id": "EgLZLTmJMxab"
      }
    },
    {
      "cell_type": "markdown",
      "source": [
        "**ANSWER**\n",
        "\n",
        "***Weibull distribution is an appropriate distribution.***\n",
        "\n",
        "Weibull distributions are often used to represent the distribution of lifespan of mechanical components, such as the time before a car's gearbox breaks."
      ],
      "metadata": {
        "id": "H11yIVpAM-zM"
      }
    },
    {
      "cell_type": "markdown",
      "source": [
        "**(f) The number of runs a batter will get per cricket over.**\n"
      ],
      "metadata": {
        "id": "Po2e7WGONM4l"
      }
    },
    {
      "cell_type": "markdown",
      "source": [
        "**ANSWER**\n",
        "\n",
        "***Poisson distribution is a good fit.***\n",
        "\n",
        "Explanation: The number of runs earned in a cricket over may be described by a Poisson distribution if the runs are scored separately with a constant average rate."
      ],
      "metadata": {
        "id": "_HKZSwM0NsGK"
      }
    },
    {
      "cell_type": "markdown",
      "source": [
        "**(g) The number of leopard spots per square foot of leopard skin**"
      ],
      "metadata": {
        "id": "l3OWYG_BOK53"
      }
    },
    {
      "cell_type": "markdown",
      "source": [
        "**ANSWER**\n",
        "\n",
        "***Power law distribution is a good fit.***\n",
        "\n",
        "A power law distribution best describes the distribution of leopard spots since it is typical in systems where certain entities (spots) are abundant while others are uncommon."
      ],
      "metadata": {
        "id": "nwWq8MJ0Rguv"
      }
    },
    {
      "cell_type": "markdown",
      "source": [
        "**(h) The number of people with exactly x pennies sitting in their drawers:**"
      ],
      "metadata": {
        "id": "iCOSSKoMSCLu"
      }
    },
    {
      "cell_type": "markdown",
      "source": [
        "**ANSWER**\n",
        "\n",
        "\n",
        "***Binomial distribution is an appropriate distribution.***\n",
        "\n",
        "Explanation: If the quantity of pennies chosen by each individual is a binary event (either they have that amount or they don't), then a binomial distribution may be used to represent the circumstance."
      ],
      "metadata": {
        "id": "uhiY-rnsSKwq"
      }
    },
    {
      "cell_type": "markdown",
      "source": [
        "**(i) The number of apps on people's cell phones.**"
      ],
      "metadata": {
        "id": "hJXCfwYgSeN2"
      }
    },
    {
      "cell_type": "markdown",
      "source": [
        "**ANSWER**\n",
        "\n",
        "***Suitable Distribution: Poisson distribution.***\n",
        "\n",
        "If the number of applications installed follows a discrete count model and the installation procedure is somewhat random, then the number of apps on people's phones may be represented by a Poisson distribution."
      ],
      "metadata": {
        "id": "PZ-4myrnS1l8"
      }
    },
    {
      "cell_type": "markdown",
      "source": [
        "**(j) The daily attendance of Skiena's data science course.**"
      ],
      "metadata": {
        "id": "WOesavW-TGYT"
      }
    },
    {
      "cell_type": "markdown",
      "source": [
        "**ANSWER**\n",
        "\n",
        "***Normal distribution is OK.***\n",
        "\n",
        "A normal distribution may be used as a rough approximation for daily attendance in a data science course provided the distribution is continuous, symmetric, and displays some fluctuation."
      ],
      "metadata": {
        "id": "zR1_gIthTMnu"
      }
    },
    {
      "cell_type": "markdown",
      "source": [
        "# **2.3.2. Distribution Selection for The Quant Shop**"
      ],
      "metadata": {
        "id": "u7zBqp3ZVPKz"
      }
    },
    {
      "cell_type": "markdown",
      "source": [
        "**Explain which distribution (binomial, normal, Poisson, or power law) is most suitable for the following phenomena:**\n",
        "\n",
        "\n",
        "**(a) The beauty contestants at the Miss Universe pageant.**"
      ],
      "metadata": {
        "id": "fuzbbTGPXEy2"
      }
    },
    {
      "cell_type": "markdown",
      "source": [
        "**ANSWER**\n",
        "\n",
        "***Poisson distribution is a good fit.***\n",
        "\n",
        "A Poisson distribution may be used to describe the number of participants in the Miss Universe competition since it depicts the count of discrete events (contestants) happening in a constant amount of time with a little likelihood that each event will occur."
      ],
      "metadata": {
        "id": "-UbqEWjWXi_R"
      }
    },
    {
      "cell_type": "markdown",
      "source": [
        "**(b) The gross of movies produced by Hollywood studios.**"
      ],
      "metadata": {
        "id": "T0h3BgziXtNT"
      }
    },
    {
      "cell_type": "markdown",
      "source": [
        "**ANSWER**\n",
        "\n",
        "***Power law distribution is a good fit.***\n",
        "\n",
        "The gross profits of Hollywood-produced films often follow a power-law distribution, in which a small number of films account for a disproportionately large share of total revenue compared to the other films."
      ],
      "metadata": {
        "id": "rdPxwAbmYThG"
      }
    },
    {
      "cell_type": "markdown",
      "source": [
        "**(c) The birth weight of babies.**"
      ],
      "metadata": {
        "id": "FI6mJYdfYy-_"
      }
    },
    {
      "cell_type": "markdown",
      "source": [
        "**ANSWER**\n",
        "\n",
        "***Normal distribution is OK.***\n",
        "\n",
        "Baby birth weight is a continuous variable that, with a big enough sample size, approximates a normal distribution."
      ],
      "metadata": {
        "id": "3ToAoOMIY4gZ"
      }
    },
    {
      "cell_type": "markdown",
      "source": [
        "**(d) The price of artworks at auction.**"
      ],
      "metadata": {
        "id": "ClOp6BQ3ZDxb"
      }
    },
    {
      "cell_type": "markdown",
      "source": [
        "**ANSWER**\n",
        "\n",
        "***An Appropriate Distribution would be a Log-Normal one.***\n",
        "\n",
        "The logarithm of auction prices tends to have a normal distribution, which is why the values of artworks generally follow a log-normal distribution. This explains why auction prices tend to be biassed."
      ],
      "metadata": {
        "id": "TuQtzJYJZN60"
      }
    },
    {
      "cell_type": "markdown",
      "source": [
        "**(e) The amount of snow New York receives on Christmas.**"
      ],
      "metadata": {
        "id": "GdcpS2nOZiG0"
      }
    },
    {
      "cell_type": "markdown",
      "source": [
        "**ANSWER**\n",
        "\n",
        "***Appropriate Distributions include the normal and Poisson distributions.***\n",
        "\n",
        "If the Christmas snowfall in New York follows a continuous pattern with some fluctuation, a normal distribution may be used to represent it. If you're keeping tally of snowfalls, you may also use a Poisson distribution."
      ],
      "metadata": {
        "id": "43yZdEzkZnwJ"
      }
    },
    {
      "cell_type": "markdown",
      "source": [
        "**(f) The number of teams that will win x games in a given football season.**"
      ],
      "metadata": {
        "id": "SLnFa1CLZxKZ"
      }
    },
    {
      "cell_type": "markdown",
      "source": [
        "**ANSWER**\n",
        "\n",
        "***Binomial distribution is an appropriate distribution.***\n",
        "\n",
        "Explanation: A binomial distribution may be used to describe the frequency with which football clubs win a certain number of games over the course of a season. You want to know how many trials (games) resulted in successful results (wins) since each team's performance in a game has a binary consequence (win or lose)."
      ],
      "metadata": {
        "id": "PcI2_pYIZ4EN"
      }
    },
    {
      "cell_type": "markdown",
      "source": [
        "**(g) The lifespans of famous people.**"
      ],
      "metadata": {
        "id": "una2Jo2paBgK"
      }
    },
    {
      "cell_type": "markdown",
      "source": [
        "**ANSWER**\n",
        "\n",
        "***Both the Gompertz-Makeham and the Weibull distributions are acceptable.***\n",
        "\n",
        "Famous people's lifespans tend to follow mortality model distributions like the Gompertz-Makeham or the Weibull.\n"
      ],
      "metadata": {
        "id": "uOj2eirlaKg6"
      }
    },
    {
      "cell_type": "markdown",
      "source": [
        "**(h) The daily price of gold over a given year.**"
      ],
      "metadata": {
        "id": "g768DmRMbfw0"
      }
    },
    {
      "cell_type": "markdown",
      "source": [
        "***Normal distribution or the Generalized autoregressive conditional heteroskedasticity (GARCH) model are acceptable distributions to use.***"
      ],
      "metadata": {
        "id": "25LNeNW_brM0"
      }
    },
    {
      "cell_type": "markdown",
      "source": [
        "If the daily price of gold follows a continuous pattern with some fluctuation, then it may be described using a normal distribution. Gold prices, for example, are an example of a financial time series, and GARCH models may be better suited to capture the time-dependent variability in such data because of the volatility clustering they tend to display."
      ],
      "metadata": {
        "id": "eBb3QftLmxL2"
      }
    },
    {
      "cell_type": "markdown",
      "source": [
        "# **2.3.3 Evaluating Stock Price Prediction System**\n",
        "\n",
        "**If you built a system to predict stock prices, how would you evaluate its performance?**"
      ],
      "metadata": {
        "id": "SMaJdIzym7tL"
      }
    },
    {
      "cell_type": "markdown",
      "source": [
        "Evaluating the performance of a stock price prediction system is vital to measure its accuracy and usefulness. When assessing such a system, it is important to keep in mind the following metrics and approaches:\n",
        "\n",
        "\n",
        "\n",
        "**Mean Absolute Error (MAE)**: It is a statistical measure of the typical monthly outperformance by actual stock prices against forecasts. If the MAE is less, then the accuracy is higher.\n",
        "Error, Mean Squared (MSE):\n",
        "**** It is a statistical measure of the typical squared deviation between forecasted and actual prices. More precise results correspond to smaller MSE values.\n",
        "\n",
        "**RMSE, or Root Mean Squared Error** This metric, calculated as the square root of the MSE, is expressed in the same units as the stock price, making it easier to understand.\n",
        "\n",
        "**Precise Direction** Analyze the system's track record in predicting the direction (up or down) as well as the size (how much) of price changes. You can figure out what percentage of forecasts in a certain direction were accurate.\n",
        "\n",
        "**Measures of the Error Bar:**\n",
        "\n",
        "   Mean Absolute Percentage Error (MAPE) is a statistical measure of how off actual prices are from what was projected. In percentage terms, more accuracy corresponds to a smaller MAPE.\n",
        "\n",
        "**proportion Accuracy:** The proportion of predictions that fall inside a certain accuracy criterion is shown by the inverse of MAPE.\n",
        "\n",
        "**Profit and Loss Statement**\n",
        "\n",
        "Test the system's performance by placing trades based on its forecasts and recording the results. As part of this process, you could develop, backtest, and evaluate a trading strategy.\n",
        "\n",
        "\n",
        "\n",
        "**Ratio of Sharpness:** The Sharpe Ratio may be used to evaluate the risk-adjusted returns of trading based on forecasts. It takes into account not just profits but also risks.\n",
        "\n",
        "\n",
        "\n",
        "**Out-of-Sample Testing\":** Evaluate the model's accuracy using data it was not exposed to during training. This is important for testing the model's ability to generalize.\n",
        "\n",
        "\n",
        "\n",
        "**Cross-Validation:** Evaluate the model's performance on numerous subsets of the data using methods like k-fold cross-validation to lessen the likelihood of overfitting.\n",
        "\n",
        "\n",
        "**Benchmarking:** Evaluate the model's accuracy in comparison to a standard. A good model should outperform basic strategies like \"Buy and Hold.\"\n",
        "\n",
        "**Overfitting and Generalization:** Ensure that the model does not overfit the training data. A good model should be able to extrapolate to novel information.\n",
        "\n",
        "**Real-Time Testing:** Put the system to the test in a live trading environment with a little initial investment to see how it fares in the real world.\n",
        "\n",
        "**Qualitative Analysis:** Think about how well the model can be understood, how resilient it is, and how well it can adjust to new market situations.\n",
        "\n",
        "**Risk Management** Assess the system's capacity to manage risk by establishing stop-loss levels and position size.\n",
        "\n",
        "Keep in mind that forecasting stock prices is difficult, and there is no foolproof method. Moreover, the review should be continual, since market conditions change over time. Additionally, the choice of assessment metrics and methodologies may rely on the unique aims and tactics of your prediction system.\n"
      ],
      "metadata": {
        "id": "RfkPm6dXoF9V"
      }
    },
    {
      "cell_type": "code",
      "source": [
        "import numpy as np\n",
        "\n",
        "# Generate random historical stock prices\n",
        "np.random.seed(0)\n",
        "historical_prices = np.random.rand(100) * 100\n",
        "\n",
        "# Generate random predicted stock prices (with some noise)\n",
        "predicted_prices = historical_prices + np.random.normal(0, 5, 100)\n",
        "from sklearn.metrics import mean_absolute_error, mean_squared_error\n",
        "\n",
        "# Calculate Mean Absolute Error (MAE)\n",
        "mae = mean_absolute_error(historical_prices, predicted_prices)\n",
        "\n",
        "# Calculate Mean Squared Error (MSE)\n",
        "mse = mean_squared_error(historical_prices, predicted_prices)\n",
        "\n",
        "# Calculate Root Mean Squared Error (RMSE)\n",
        "rmse = np.sqrt(mse)\n",
        "\n",
        "print(\"Mean Absolute Error (MAE):\", mae)\n",
        "print(\"Mean Squared Error (MSE):\", mse)\n",
        "print(\"Root Mean Squared Error (RMSE):\", rmse)\n"
      ],
      "metadata": {
        "colab": {
          "base_uri": "https://localhost:8080/"
        },
        "id": "7Bo1toPS_FDH",
        "outputId": "f59309e7-efe2-42f6-f8bc-3c74f27cc3cd"
      },
      "execution_count": null,
      "outputs": [
        {
          "output_type": "stream",
          "name": "stdout",
          "text": [
            "Mean Absolute Error (MAE): 4.31192299714378\n",
            "Mean Squared Error (MSE): 25.74404310268686\n",
            "Root Mean Squared Error (RMSE): 5.073858798063546\n"
          ]
        }
      ]
    },
    {
      "cell_type": "markdown",
      "source": [
        "# **2.3.4 Screening for Outliers**\n",
        "\n",
        "**Discuss how you would screen for outliers in data, and what actions you would take if you found one.**"
      ],
      "metadata": {
        "id": "updBMPNjp-s0"
      }
    },
    {
      "cell_type": "markdown",
      "source": [
        "Screening for outliers in data is a crucial step in data analysis to find data points that differ considerably from the mean. It is crucial to recognize and properly manage outliers because of the potential influence they might have on statistical analysis and modeling.\n",
        "\n",
        "**Checking for Unusual Cases:**\n",
        "\n",
        "First, look at your data visually to see what stands out. If you have data points that don't seem to fit in with the rest of the data, you may use data visualization tools like box plots, scatter plots, histograms, or quantile-quantile (Q-Q) plots to find them.\n",
        "\n",
        "**Techniques in Statistics:**\n",
        "\n",
        "Determine central tendency and dispersion by computing summary statistics like mean, median, standard deviation, and interquartile range (IQR).\n",
        "\n",
        "You may find out how distant an observation is from the mean by using the Z-score or a modified Z-score.\n",
        "\n",
        "When looking for outliers, look for data points that are either below Q1 - 1.5\n",
        " IQR or above Q3 + 1.5 * IQR.\n",
        "\n",
        "\n",
        "\n",
        "Models learned from machine data should be used to make predictions, and then major discrepancies should be sought for. In general, anomalies are extreme cases.\n",
        "\n",
        "Use your expertise in the field to determine what kind of numbers are reasonable and instructive for your data. Unusual values are not always incorrect.\n",
        "\n",
        "\n",
        "**What to Do When You Spot an Outlier:**\n",
        "\n",
        "\n",
        "Verifying Data: Before taking any action, be sure the discovered outliers aren't the result of measurement or data input mistakes. Verify the veracity of the information.\n",
        "\n",
        "To fully grasp the situation, it's important to investigate the anomalies. How sure can we be that these findings aren't just data input mistakes? When determining how to deal with outliers, understanding the context is essential.\n",
        "\n",
        "To lessen the effect of outliers in statistical analysis, consider transforming the data to make it more regularly distributed, using techniques such as logarithmic scaling or square root transformation.\n",
        "\n",
        "If missing data is the cause of the outliers, it may be possible to impute the values using suitable imputation methods.\n",
        "\n",
        "Capping or Truncating: Set a threshold for what you consider an outlier and cap or truncate results beyond that threshold. This is typically done to avoid extreme numbers from dominating the analysis.\n",
        "\n",
        "**Methods of Modeling:**\n",
        "\n",
        "Constructing models that are immune to extreme values, such as robust  regression models that ignore them, might be useful in some circumstances.\n",
        "\n",
        "Another option is to exclude potentially erroneous outliers from the data collection.\n",
        "\n",
        "The significance of outliers in relation to a particular problem or occurrence should be noted in the report. The context provided by this aids in comprehending the facts.\n",
        "\n",
        "Run your analysis with and without the outliers to see how each affects the findings to do a sensitivity study.\n",
        "\n",
        "Transparency in analysis requires that the existence of outliers and the subsequent actions be communicated to the appropriate stakeholders or team members.\n",
        "\n",
        "Keep in mind that the context of your data and analysis will determine the best course of action to pursue. It's possible that certain outliers should be left alone or even used as-is since they contain useful information. Understanding the data and the context in which it fits is crucial for making good judgments.\n"
      ],
      "metadata": {
        "id": "exbf4DjEqgm4"
      }
    },
    {
      "cell_type": "code",
      "source": [
        "import numpy as np\n",
        "import pandas as pd\n",
        "\n",
        "# Set a random seed for reproducibility\n",
        "np.random.seed(0)\n",
        "\n",
        "# Generate random data with outliers\n",
        "data = np.random.normal(0, 1, 100)  # Generate 100 data points with a mean of 0 and standard deviation of 1\n",
        "outliers = np.random.normal(10, 2, 5)  # Add 5 outliers with a mean of 10 and standard deviation of 2\n",
        "data = np.concatenate([data, outliers])\n",
        "import matplotlib.pyplot as plt\n",
        "import seaborn as sns\n",
        "\n",
        "plt.figure(figsize=(8, 6))\n",
        "sns.boxplot(data=data)\n",
        "plt.title(\"Box Plot for Outlier Detection\")\n",
        "plt.show()\n",
        "from scipy import stats\n",
        "\n",
        "z_scores = np.abs(stats.zscore(data))\n",
        "threshold = 3  # Adjust the threshold as needed\n",
        "\n",
        "potential_outliers = np.where(z_scores > threshold)[0]\n",
        "\n",
        "print(\"Indices of potential outliers:\", potential_outliers)\n",
        "cleaned_data = data[~np.isin(np.arange(len(data)), potential_outliers)]\n",
        "plt.figure(figsize=(8, 6))\n",
        "sns.boxplot(data=cleaned_data)\n",
        "plt.title(\"Box Plot for Cleaned Data (Outliers Removed)\")\n",
        "plt.show()\n"
      ],
      "metadata": {
        "colab": {
          "base_uri": "https://localhost:8080/",
          "height": 1000
        },
        "id": "UnTdGi2m5quI",
        "outputId": "332f795b-3920-4110-d917-7429f82073e3"
      },
      "execution_count": null,
      "outputs": [
        {
          "output_type": "display_data",
          "data": {
            "text/plain": [
              "<Figure size 800x600 with 1 Axes>"
            ],
            "image/png": "[encoded data removed]"
          },
          "metadata": {}
        },
        {
          "output_type": "stream",
          "name": "stdout",
          "text": [
            "Indices of potential outliers: [100 103 104]\n"
          ]
        },
        {
          "output_type": "display_data",
          "data": {
            "text/plain": [
              "<Figure size 800x600 with 1 Axes>"
            ],
            "image/png": "[encoded data removed]"
          },
          "metadata": {}
        }
      ]
    },
    {
      "cell_type": "markdown",
      "source": [
        "# **2.3.5. Importance of Data Cleaning**\n",
        "\n",
        "**Explain the crucial role that data cleaning plays in the data analysis process.**"
      ],
      "metadata": {
        "id": "pmLYr6Cmr2i0"
      }
    },
    {
      "cell_type": "markdown",
      "source": [
        "Whether it's called \"**data cleaning**,\" \"**data cleansing,**\" or \"data preprocessing,\" this phase in the data analysis process is crucial and fundamental. The goal is to guarantee that datasets are of good quality and can be utilized successfully for analysis by detecting and fixing mistakes, inconsistencies, and inaccuracies. There is no way to emphasize the significance of the function that data cleansing plays in data analysis.\n",
        "\n",
        "Validity and trustworthiness of an analysis are dependent on the accuracy and completeness of the data used in it. In order to ensure that the data is of good quality and suitable for analysis, data cleaning helps to discover and resolve problems such missing values, duplicates, and errors.\n",
        "\n",
        "Eliminates the potential for bias caused by incomplete, incorrect, or otherwise flawed data. Data cleaning helps eliminate or fix such biases, ensuring that your analysis findings are more reflective of the real population or phenomena you're researching.\n",
        "\n",
        "Clean data allows for more precise and trustworthy analysis. Mistaken assumptions and interpretations based on faulty facts may have far-reaching effects on the quality of decisions made.\n",
        "\n",
        "**Improves Data Consistency:** Accurate analysis relies on consistent data. Data cleaning helps standardize data formats, units, and labels, making it simpler to deal with the data and simplifying comparisons across various datasets.\n",
        "\n",
        "\n",
        "\n",
        "**Reduces Data Inconsistencies:** It is usual to find discrepancies in data structure and format when integrating data from many sources. Harmonized data can then be easily integrated and analyzed, which is why data cleansing is so important.\n",
        "\n",
        "\n",
        "Helps get rid of the \"noise\" in your data, which are the extraneous or random fluctuations that might mask the true patterns and correlations. Eliminating duplicates, invalid entries, and other sources of noise is what data cleaning is all about.\n",
        "\n",
        "\n",
        "\n",
        "**Facilitates Data Exploration:** Purified data is more suited for analysis and visualization. Data cleansing enables for improved data visualization, which is vital for getting insights and spotting trends and patterns.\n",
        "\n",
        "\n",
        "Time and effort are conserved since fewer issues are encountered during analysis when the data has been thoroughly cleaned. Instead of spending time fixing data problems, data analysts and scientists may concentrate on doing the real analysis.\n",
        "\n",
        "\n",
        "\n",
        "**Enhances Reproducibility:** Clean data guarantees that the data analysis process is repeatable. The sanitized data set may then be used by other researchers or teams to do their own analysis.\n",
        "\n",
        "\n",
        "Reduces the Likelihood of Making Errors in Analysis Data cleansing reduces the likelihood of making errors in analysis. By fixing issues before they cause mistakes, you save time and effort.\n",
        "\n",
        "\n",
        "**Confidence in the Analysis** Results is Boosted when Clean Data Is Used. If the data is clean and trustworthy, stakeholders and decision-makers will have greater faith in the results.\n",
        "\n",
        "\n",
        "Data cleansing is often required to guarantee compliance with data protection laws and other ethical issues. The proper handling of private information is essential.\n",
        "\n",
        "\n",
        "\n",
        "In conclusion, data cleansing is a crucial stage that lays the groundwork for trustworthy, accurate, and insightful analyses to follow. It makes that the data utilized for analysis is clean, consistent, and appropriate for the task at hand, all of which improve the reliability and validity of the results.\n"
      ],
      "metadata": {
        "id": "2SIw6WJnsPe8"
      }
    },
    {
      "cell_type": "markdown",
      "source": [
        "\n",
        "# **2.3.6. Handling Missing Values**\n",
        "\n",
        "**During analysis, how do you treat missing values in datasets?**"
      ],
      "metadata": {
        "id": "80BOyAwatfG3"
      }
    },
    {
      "cell_type": "markdown",
      "source": [
        "Handling missing values is an essential part of data preprocessing during the analysis of datasets. Missing values can adversely impact the quality and reliability of analysis results, so it's crucial to address them appropriately.\n",
        "\n",
        "**Here are common techniques for treating missing values:**\n",
        "\n",
        "**Identify Missing Values:**\n",
        "\n",
        "Begin by identifying missing values in your dataset. These values may be denoted as NaN, NA, null, or any other indicator depending on the data format and programming language you are using.\n",
        "\n",
        "**Determine the Cause:**\n",
        "\n",
        "Understand why the values are missing. Is it due to data entry errors, non-response, or some other reason? This understanding can guide your approach to handling missing data.\n",
        "\n",
        "**Data Imputation:**\n",
        "\n",
        "Imputation involves filling in missing values with estimated or calculated values. Several imputation methods are available, including:\n",
        "Mean, Median, or Mode Imputation: Replace missing values with the mean, median, or mode of the non-missing values in the same column.\n",
        "Regression Imputation: Predict missing values using regression models based on other variables.\n",
        "\n",
        "**K-Nearest Neighbors (K-NN) Imputation:**\n",
        "\n",
        "Fill in missing values based on the values of their k-nearest neighbors in the dataset.\n",
        "\n",
        "**Random Imputation:**\n",
        "Assign random values from the distribution of non-missing values.\n",
        "Domain-Specific Imputation: Use domain knowledge to impute values based on the context of the dataset.\n",
        "\n",
        "**Deletion:**\n",
        "\n",
        "You can choose to delete rows or columns with missing values if they don't represent a significant portion of your data and their loss won't compromise the analysis. This is called listwise deletion (removing rows) or casewise deletion (removing entire cases).\n",
        "\n",
        "**Interpolation:**\n",
        "\n",
        "Interpolation methods estimate missing values based on the trend or pattern in the existing data. Common interpolation methods include linear interpolation and time-based interpolation for time series data.\n",
        "\n",
        "**Create an Indicator Variable:**\n",
        "\n",
        "Sometimes, it's valuable to create a binary indicator variable that marks whether a value was missing or not. This can help models understand the patterns and associations with missingness.\n",
        "\n",
        "**Use Special Values:**\n",
        "\n",
        "In some cases, missing values can be replaced with specific values that indicate missing data, such as \"N/A\" or \"-1.\"\n",
        "\n",
        "**Multiple Imputation:**\n",
        "\n",
        "Multiple imputation involves creating multiple imputed datasets, each with different imputed values, to account for uncertainty in imputation. You perform your analysis on each imputed dataset and then combine the results.\n",
        "\n",
        "**Domain-Specific Handling:**\n",
        "\n",
        "Depending on the context of your analysis, domain-specific knowledge may suggest how to handle missing data. For instance, in time series data, missing data might be backfilled or forward-filled based on the temporal context.\n",
        "\n",
        "**Avoid Over-Imputation:**\n",
        "\n",
        "Be cautious not to over-impute data, which can lead to incorrect or misleading results. Impute data only when it makes sense to do so and consider the impact on the analysis.\n",
        "\n",
        "**Document and Communicate:**\n",
        "\n",
        "It's essential to document the approach taken to handle missing values and communicate this clearly in your analysis report to ensure transparency.\n",
        "The choice of which method to use depends on the nature of the data, the analysis goals, the extent of missing data, and domain-specific considerations. It's essential to carefully consider the implications of each method and how they might affect the results of your analysis. Additionally, data preprocessing, including handling missing values, is often an iterative process that may need to be revisited as you gain more insights during the analysis."
      ],
      "metadata": {
        "id": "PQNbQO4zt1AB"
      }
    },
    {
      "cell_type": "markdown",
      "source": [
        "# **2.3.7. Selection Bias**\n",
        "\n",
        "**Define selection bias and explain why it is important.**"
      ],
      "metadata": {
        "id": "8fq65ZyxvI4L"
      }
    },
    {
      "cell_type": "markdown",
      "source": [
        "When a study's sample or participants are not representative of the larger community from which they are taken, a statistical mistake known as \"selection bias\" develops. Unrepresentative and possibly skewed data results when certain segments of the population have a greater or lower chance of being included in the sample. The findings and conclusions of a research may be less reliable and applicable to other situations if they were affected by selection bias.\n",
        "\n",
        "**Selection bias comes in many ways, including as**\n",
        "\n",
        "\n",
        "\n",
        "***Sampling Error***\n",
        "\n",
        "This happens when the technique of picking a sample is incorrect, resulting to a non-random or unrepresentative sample. If a survey is only administered during regular business hours, for instance, it may fail to adequately represent the views of those who work overnight shifts.\n",
        "\n",
        "\n",
        "\n",
        "The **Non-Response Bias** Those who do not take part in the research may have different traits or perspectives than those who do, leading to this form of bias. Non-response bias may develop, for instance, in a survey, if particular demographic groups are less likely to respond.\n",
        "\n",
        "\n",
        "\n",
        "Third, the **\"healthy volunteer bias\"** Volunteers for clinical trials or studies in the medical field may be healthier and more motivated than the general population, which might skew the conclusions concerning the efficacy of therapies.\n",
        "\n",
        "\n",
        "\n",
        "Overrepresentation of studies showing substantial effects and underrepresentation of studies with null or negative outcomes may occur from **publication bias**, in which researchers and journals are more inclined to publish studies with favorable results.\n",
        "\n",
        "\n",
        "\n",
        "\n",
        "\n",
        "\n",
        "\n",
        "Recognizing and addressing selection bias is critical because it threatens the validity and dependability of research findings, which may lead to inappropriate conclusions and even harmful judgments.\n",
        "This is why it’s crucial:\n",
        "\n",
        "\n",
        "\n",
        "First, **Inference Validity:** Incorrect conclusions about the population under research may result from selection bias. It's possible that the findings don't represent typical demographics or social habits of the sampled community.\n",
        "\n",
        "\n",
        "\n",
        "Generalizability comes second. Results from studies using biased samples may not be extrapolated to the whole population. This might restrict the relevance of studies to practical situations.\n",
        "\n",
        "\n",
        "\n",
        "\n",
        "**Ethical considerations:**  If some populations are often left out of research or underrepresented in statistics, it might lead to unjust or discriminatory treatment of such people. This may have ethical concerns.\n",
        "\n",
        "\n",
        "\n",
        "\n",
        "**Allocation of Resources:** Misleading findings owing to selection bias may lead to the misallocation of resources. Treatments based on biased research, for instance in healthcare, may result in subpar care for patients.\n",
        "\n",
        "\n",
        "\n",
        "\n",
        "**Scientific Credibility**: Selection bias may undermine the trustworthiness of scientific studies. When people lose faith in the scientific method and the results of investigations, it hurts everyone.\n",
        "\n",
        "\n",
        "\n",
        "Researchers may reduce the likelihood of selection bias by using reliable sample strategies, dealing with non-response problems, being forthright about their data-gathering practices, and keeping an eye on the analysis for signs of bias. To account for selection bias when it cannot be avoided entirely, they may also use statistical approaches, such as propensity score matching. Eliminating selection bias is crucial for creating reliable findings that can be applied to broader populations.\n",
        "\n"
      ],
      "metadata": {
        "id": "Sl1xEAIHvSg-"
      }
    },
    {
      "cell_type": "markdown",
      "source": [
        "# **2.3.8. Data Management Procedures and Bias**\n",
        "\n",
        "Discuss how data management procedures, such as handling missing data, can\n",
        "potentially exacerbate bias"
      ],
      "metadata": {
        "id": "EEEKOrhIwzcj"
      }
    },
    {
      "cell_type": "markdown",
      "source": [
        "Bias in a study or analysis may be exacerbated by sloppy data management practices, such as the treatment of missing data. Procedures for managing data may have an impact on bias in the following ways:\n",
        "\n",
        "**Handling of Missing Data with Care:**\n",
        "\n",
        "\n",
        "\n",
        "Researchers may create bias if the approach they use to account for missing data is not random or if it favors one group over another. For instance, the analysis may suffer from under- or over-representation of specific demographic groups if only missing data from such categories are imputed.\n",
        "\n",
        "**Bias in Data Imputation:**\n",
        "\n",
        "\n",
        "\n",
        "If the imputation technique is biased or if the assumptions used for imputation are not satisfied, then the process of imputed missing data may induce bias. For instance, the imputation of missing income data based on occupations has the risk of producing skewed estimates because of the assumption of perfect correlation between occupation and income made by the imputation technique.\n",
        "\n",
        "**Incomplete Response Bias:**\n",
        "\n",
        "\n",
        "\n",
        "Decisions made on how to manage non-respondents while dealing with missing data due to non-response (e.g., survey non-response) might induce bias. It's possible to have biased findings, for instance, if non-respondents are simply left out of the analysis.\n",
        "\n",
        "**Inconsistent Classification:**\n",
        "\n",
        "\n",
        "\n",
        "Misclassification of persons or observations might result from improper handling of incomplete data. When data is misclassified in a way that disproportionately impacts one group over another, a phenomenon known as information bias may arise.\n",
        "\n",
        "**Bias in Modeling:**\n",
        "\n",
        "\n",
        "\n",
        "Using statistical models to manage missing data might generate bias if the model assumptions are not satisfied or if the model is not correctly stated. For instance, imputed values might be skewed if the model used to fill in the blanks wasn't the best fit for the data.\n",
        "\n",
        "\n",
        "**Bias in the Media:**\n",
        "\n",
        "\n",
        "\n",
        "There may be a bias in the literature since researchers are more inclined to publish studies that demonstrate substantial impacts or discoveries. There may be a publishing bias toward negative or null findings that have some data missing.\n",
        "\n",
        "**Taking into account presumptions :**\n",
        "\n",
        "\n",
        "\n",
        "The accuracy of some data management processes depends on the accuracy of the assumptions used, notably imputation approaches. The findings may be skewed if these assumptions are impractical or inaccurate.\n",
        "\n",
        "**Influence of Selected-Form Bias:**\n",
        "\n",
        "\n",
        "\n",
        "Selection bias may interact with how missing data is handled. Missing data may worsen selection bias if the way they are handled influences who is included or excluded from the research.\n",
        "\n",
        "**Researchers should take the following steps to reduce the possibility of bias created by data management processes:**\n",
        "\n",
        "\n",
        "\n",
        "Share information on how they manage data, particularly how they deal with gaps in that data.\n",
        "\n",
        "Treat missing data using procedures that are objective and reasonable.\n",
        "\n",
        "The validity and generalizability of their results might be affected by the choices they made in managing their data.\n",
        "\n",
        "Perform sensitivity analysis to examine the robustness of findings to alternative data management options.\n",
        "\n",
        "When analyzing and interpreting data, keep an eye out for any biases and account for them if necessary.\n",
        "\n",
        "To maintain the reliability and validity of research results and to avoid bias in research projects, it is crucial to give considerable thought to and record data management processes, especially when dealing with missing data.\n",
        "\n"
      ],
      "metadata": {
        "id": "DXbhpdE_yVTr"
      }
    },
    {
      "cell_type": "markdown",
      "source": [
        "# **2.3.9. Efficient Web Data Scraping**\n",
        "\n",
        "**Explain efficient methods for scraping web data.**"
      ],
      "metadata": {
        "id": "AcxpKJrBzTBN"
      }
    },
    {
      "cell_type": "markdown",
      "source": [
        "\n",
        "Web data scraping that is both efficient and compliant with the site's terms of service and performance standards is the gold standard. Here are some effective strategies for extracting information from the web:\n",
        "\n",
        "Firstly, **Make Use Of** **APIs**  (**Application Programming Interfaces**):\n",
        "\n",
        "   Many websites now provide application programming interfaces (APIs) that enable easy, standardized access to their data. APIs are more dependable and speedier than conventional web scraping techniques since they were built from the ground up to get data.\n",
        "\n",
        "\n",
        "\n",
        "\n",
        "**Rudimentary Architecture**\n",
        "\n",
        "   Python's Scrapy is an effective and robust web scraping and crawling framework. Strong enough for use in large-scale scraping projects, it lets you specify how to follow links and retrieve data in a systematic fashion.\n",
        "\n",
        "\n",
        "\n",
        "***Throttling of Requests: ***\n",
        "\n",
        "   Avoid flooding a website's server with too many requests at once by turning on request throttling. You may now scrape information without negatively effecting the functionality of the target page.\n",
        "\n",
        "\n",
        "\n",
        " **Make Use Of** **Headless Browsers**\n",
        "\n",
        "   - For websites with dynamic content loaded via JavaScript, consider employing headless browsers like Puppeteer (for JavaScript) or Selenium. After dynamically loading material, these tools may render the website so you can interact with it and scrape it.\n",
        "\n",
        "\n",
        "\n",
        "**Don't disregard the 'robots.txt' file**\n",
        "\n",
        "   - Always check the website's 'robots.txt' file to identify whether portions of the site are off-limits for scraping. Following these rules will ensure that you scrape in a responsible and productive manner.\n",
        "\n",
        "\n",
        "\n",
        "**Sixthly, Caching and Persistence**\n",
        "\n",
        "   - Use caching to keep from scraping the same data again and over. Keep information locally so as to cut down on multiple page loads.\n",
        "\n",
        "\n",
        "\n",
        "**Parallelism and Threading, Number Seven**\n",
        "\n",
        "   A lot of time may be saved by scraping numerous pages at once using parallelism and threading. Keep in mind the website's rate-limiting and server-load regulations.\n",
        "\n",
        "\n",
        "\n",
        "**Make Use Of** **Proxy Servers**\n",
        "\n",
        "   To avoid IP blocking and see region-locked material, you should cycle across proxy servers. The scraping workload may be shared via proxy rotation.\n",
        "\n",
        "\n",
        "\n",
        "**Regular Expressions (Regex)**\n",
        "\n",
        "   It's possible to efficiently pull out specified data patterns from HTML or text using regular expressions. Find what you're looking for with the help of regular expression patterns.\n",
        "\n",
        "\n",
        "\n",
        "**Formats for Structuring Data**\n",
        "\n",
        "   Structured data formats like JSON and XML are used by a wide variety of websites. Data in these formats is simpler to process and more efficient to scrape if it is accessible.\n",
        "\n",
        "\n",
        "\n",
        " **Improve Selector Performance using XPath and CSS**\n",
        "\n",
        " Use accurate XPath or CSS selectors while scraping with tools like Scrapy or lxml. Keep your selectors narrow, since using too many options might slow down your scrape.\n",
        "\n",
        "\n",
        "\n",
        "**Error Handling and Logging, Section:**\n",
        "\n",
        "  Build in thorough logging and error handling so you can keep tabs on your scraping operation. This facilitates early problem detection and resolution.When scraping, it's advisable to take it easy and adhere to best practices, such as spacing out your queries to make them seem more human. Additionally, give a user-agent in your queries to identify your scraper and provide a contact point in case of concerns.\n",
        "\n",
        "\n",
        "\n",
        "\n",
        "**Legal and Ethical Obligations**\n",
        "\n",
        "   Respect copyright, personal information, and the terms of service in all of your online scraping operations.\n",
        "\n",
        "\n",
        "\n",
        "**Testing and Validation**\n",
        "\n",
        "   Make sure your scraping script works as planned and doesn't create any unexpected problems by testing it on a small scale before running it on a larger one.\n",
        "\n",
        "\n",
        "Avoiding server congestion or violating website owners' terms of service is essential for efficient online data scraping, which demands technological expertise as well as a responsible and ethical approach. Never break a website's rules, and if in question, either get permission or use an API to get at the data you need.\n"
      ],
      "metadata": {
        "id": "81ghD1y70WGn"
      }
    }
  ]
}